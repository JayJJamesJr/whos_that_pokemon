{
 "cells": [
  {
   "cell_type": "code",
   "execution_count": null,
   "metadata": {},
   "outputs": [],
   "source": [
    "import numpy as np\n",
    "import cv2\n",
    "import matplotlib.pyplot as plt\n",
    "import os\n",
    "%matplotlib inline"
   ]
  },
  {
   "cell_type": "code",
   "execution_count": null,
   "metadata": {},
   "outputs": [],
   "source": [
    "#create new directory for silhouettes (thresholded images)"
   ]
  },
  {
   "cell_type": "code",
   "execution_count": null,
   "metadata": {},
   "outputs": [],
   "source": [
    "# Makes a directory for our silhouettes if there isn't one already.\n",
    "if 'silhouettes' not in os.listdir():\n",
    "    os.mkdir('silhouettes')"
   ]
  },
  {
   "cell_type": "code",
   "execution_count": null,
   "metadata": {},
   "outputs": [],
   "source": [
    "# Removing mega evolution pokemon and gender specific labels like 'm' or 'f'\n",
    "for root,dirs,files in os.walk('./pokemon/pokemon'):\n",
    "    for file in files:\n",
    "        f = os.path.join(root,file)\n",
    "        if 'mega'in f or '-' in f or 'f' in f:\n",
    "            os.remove(f)"
   ]
  },
  {
   "cell_type": "code",
   "execution_count": null,
   "metadata": {},
   "outputs": [],
   "source": [
    "# Storing image paths to be read by cv function\n",
    "files = []\n",
    "for file in os.listdir('./pokemon/pokemon'):\n",
    "    number = int(file.split('.')[0])\n",
    "    files.append(number)\n",
    "files.sort(key=int)\n",
    "images = []\n",
    "for file in files:\n",
    "    file = 'pokemon/pokemon/' + str(file) + '.png'\n",
    "    images.append(file)"
   ]
  },
  {
   "cell_type": "code",
   "execution_count": null,
   "metadata": {},
   "outputs": [],
   "source": [
    "path = 'silhouettes/'\n",
    "for i,image in enumerate(images):\n",
    "    # Read each image in grayscale\n",
    "    img = cv2.imread(image,0)\n",
    "    # Extract the external contours of the image\n",
    "    contours,hierarchy = cv2.findContours(img,cv2.RETR_CCOMP,cv2.CHAIN_APPROX_SIMPLE)\n",
    "    # Create a new image to draw the contours on\n",
    "    external_contours = np.zeros(img.shape)\n",
    "    for j in range(len(contours)):\n",
    "        #External contours\n",
    "        cv2.drawContours(external_contours,contours,j,255,-1)\n",
    "       \n",
    "    # Save the silhouette to disk.\n",
    "    #cv2.imwrite(os.path.join(path,str(i) + \".png\"),external_contours)\n"
   ]
  },
  {
   "cell_type": "code",
   "execution_count": null,
   "metadata": {},
   "outputs": [],
   "source": [
    "plt.imshow(cv2.imread(images[0],0),cmap='gray')"
   ]
  },
  {
   "cell_type": "code",
   "execution_count": 9,
   "metadata": {},
   "outputs": [
    {
     "data": {
      "text/plain": [
       "<matplotlib.image.AxesImage at 0x1ed6ecae490>"
      ]
     },
     "execution_count": 9,
     "metadata": {},
     "output_type": "execute_result"
    },
    {
     "data": {
      "image/png": "[encoded data removed]",
      "text/plain": [
       "<Figure size 432x288 with 1 Axes>"
      ]
     },
     "metadata": {
      "needs_background": "light"
     },
     "output_type": "display_data"
    }
   ],
   "source": [
    "plt.imshow(cv2.imread('./silhouettes/0.png',0),cmap='gray')"
   ]
  },
  {
   "cell_type": "code",
   "execution_count": null,
   "metadata": {},
   "outputs": [],
   "source": []
  }
 ],
 "metadata": {
  "kernelspec": {
   "display_name": "Python 3",
   "language": "python",
   "name": "python3"
  },
  "language_info": {
   "codemirror_mode": {
    "name": "ipython",
    "version": 3
   },
   "file_extension": ".py",
   "mimetype": "text/x-python",
   "name": "python",
   "nbconvert_exporter": "python",
   "pygments_lexer": "ipython3",
   "version": "3.8.3"
  }
 },
 "nbformat": 4,
 "nbformat_minor": 4
}
