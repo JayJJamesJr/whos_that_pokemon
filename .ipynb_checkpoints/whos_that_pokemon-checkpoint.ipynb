{
 "cells": [
  {
   "cell_type": "code",
   "execution_count": 50,
   "metadata": {},
   "outputs": [],
   "source": [
    "import numpy as np\n",
    "import cv2\n",
    "import matplotlib.pyplot as plt\n",
    "import os\n",
    "%matplotlib inline"
   ]
  },
  {
   "cell_type": "code",
   "execution_count": 51,
   "metadata": {},
   "outputs": [],
   "source": [
    "#create new directory for silhouettes (thresholded images)"
   ]
  },
  {
   "cell_type": "code",
   "execution_count": 52,
   "metadata": {},
   "outputs": [],
   "source": [
    "if 'silhouettes' not in os.listdir():\n",
    "    os.mkdir('silhouettes')"
   ]
  },
  {
   "cell_type": "code",
   "execution_count": 53,
   "metadata": {},
   "outputs": [],
   "source": [
    "# Removing mega evolution pokemon\n",
    "for root,dirs,files in os.walk('./pokemon/pokemon'):\n",
    "    for file in files:\n",
    "        f = os.path.join(root,file)\n",
    "        if 'mega'in f or '-' in f or 'f' in f:\n",
    "            os.remove(f)"
   ]
  },
  {
   "cell_type": "code",
   "execution_count": 54,
   "metadata": {},
   "outputs": [
    {
     "name": "stdout",
     "output_type": "stream",
     "text": [
      "['pokemon/pokemon/1.png', 'pokemon/pokemon/2.png', 'pokemon/pokemon/3.png', 'pokemon/pokemon/4.png', 'pokemon/pokemon/5.png', 'pokemon/pokemon/6.png', 'pokemon/pokemon/7.png', 'pokemon/pokemon/8.png', 'pokemon/pokemon/9.png', 'pokemon/pokemon/10.png', 'pokemon/pokemon/11.png', 'pokemon/pokemon/12.png', 'pokemon/pokemon/13.png', 'pokemon/pokemon/14.png', 'pokemon/pokemon/15.png', 'pokemon/pokemon/16.png', 'pokemon/pokemon/17.png', 'pokemon/pokemon/18.png', 'pokemon/pokemon/19.png', 'pokemon/pokemon/20.png', 'pokemon/pokemon/21.png', 'pokemon/pokemon/22.png', 'pokemon/pokemon/23.png', 'pokemon/pokemon/24.png', 'pokemon/pokemon/25.png', 'pokemon/pokemon/26.png', 'pokemon/pokemon/27.png', 'pokemon/pokemon/28.png', 'pokemon/pokemon/29.png', 'pokemon/pokemon/30.png', 'pokemon/pokemon/31.png', 'pokemon/pokemon/32.png', 'pokemon/pokemon/33.png', 'pokemon/pokemon/34.png', 'pokemon/pokemon/35.png', 'pokemon/pokemon/36.png', 'pokemon/pokemon/37.png', 'pokemon/pokemon/38.png', 'pokemon/pokemon/39.png', 'pokemon/pokemon/40.png', 'pokemon/pokemon/41.png', 'pokemon/pokemon/42.png', 'pokemon/pokemon/43.png', 'pokemon/pokemon/44.png', 'pokemon/pokemon/45.png', 'pokemon/pokemon/46.png', 'pokemon/pokemon/47.png', 'pokemon/pokemon/48.png', 'pokemon/pokemon/49.png', 'pokemon/pokemon/50.png', 'pokemon/pokemon/51.png', 'pokemon/pokemon/52.png', 'pokemon/pokemon/53.png', 'pokemon/pokemon/54.png', 'pokemon/pokemon/55.png', 'pokemon/pokemon/56.png', 'pokemon/pokemon/57.png', 'pokemon/pokemon/58.png', 'pokemon/pokemon/59.png', 'pokemon/pokemon/60.png', 'pokemon/pokemon/61.png', 'pokemon/pokemon/62.png', 'pokemon/pokemon/63.png', 'pokemon/pokemon/64.png', 'pokemon/pokemon/65.png', 'pokemon/pokemon/66.png', 'pokemon/pokemon/67.png', 'pokemon/pokemon/68.png', 'pokemon/pokemon/69.png', 'pokemon/pokemon/70.png', 'pokemon/pokemon/71.png', 'pokemon/pokemon/72.png', 'pokemon/pokemon/73.png', 'pokemon/pokemon/74.png', 'pokemon/pokemon/75.png', 'pokemon/pokemon/76.png', 'pokemon/pokemon/77.png', 'pokemon/pokemon/78.png', 'pokemon/pokemon/79.png', 'pokemon/pokemon/80.png', 'pokemon/pokemon/81.png', 'pokemon/pokemon/82.png', 'pokemon/pokemon/83.png', 'pokemon/pokemon/84.png', 'pokemon/pokemon/85.png', 'pokemon/pokemon/86.png', 'pokemon/pokemon/87.png', 'pokemon/pokemon/88.png', 'pokemon/pokemon/89.png', 'pokemon/pokemon/90.png', 'pokemon/pokemon/91.png', 'pokemon/pokemon/92.png', 'pokemon/pokemon/93.png', 'pokemon/pokemon/94.png', 'pokemon/pokemon/95.png', 'pokemon/pokemon/96.png', 'pokemon/pokemon/97.png', 'pokemon/pokemon/98.png', 'pokemon/pokemon/99.png', 'pokemon/pokemon/100.png', 'pokemon/pokemon/101.png', 'pokemon/pokemon/102.png', 'pokemon/pokemon/103.png', 'pokemon/pokemon/104.png', 'pokemon/pokemon/105.png', 'pokemon/pokemon/106.png', 'pokemon/pokemon/107.png', 'pokemon/pokemon/108.png', 'pokemon/pokemon/109.png', 'pokemon/pokemon/110.png', 'pokemon/pokemon/111.png', 'pokemon/pokemon/112.png', 'pokemon/pokemon/113.png', 'pokemon/pokemon/114.png', 'pokemon/pokemon/115.png', 'pokemon/pokemon/116.png', 'pokemon/pokemon/117.png', 'pokemon/pokemon/118.png', 'pokemon/pokemon/119.png', 'pokemon/pokemon/120.png', 'pokemon/pokemon/121.png', 'pokemon/pokemon/122.png', 'pokemon/pokemon/123.png', 'pokemon/pokemon/124.png', 'pokemon/pokemon/125.png', 'pokemon/pokemon/126.png', 'pokemon/pokemon/127.png', 'pokemon/pokemon/128.png', 'pokemon/pokemon/129.png', 'pokemon/pokemon/130.png', 'pokemon/pokemon/131.png', 'pokemon/pokemon/132.png', 'pokemon/pokemon/133.png', 'pokemon/pokemon/134.png', 'pokemon/pokemon/135.png', 'pokemon/pokemon/136.png', 'pokemon/pokemon/137.png', 'pokemon/pokemon/138.png', 'pokemon/pokemon/139.png', 'pokemon/pokemon/140.png', 'pokemon/pokemon/141.png', 'pokemon/pokemon/142.png', 'pokemon/pokemon/143.png', 'pokemon/pokemon/144.png', 'pokemon/pokemon/145.png', 'pokemon/pokemon/146.png', 'pokemon/pokemon/147.png', 'pokemon/pokemon/148.png', 'pokemon/pokemon/149.png', 'pokemon/pokemon/150.png', 'pokemon/pokemon/151.png', 'pokemon/pokemon/152.png', 'pokemon/pokemon/153.png', 'pokemon/pokemon/154.png', 'pokemon/pokemon/155.png', 'pokemon/pokemon/156.png', 'pokemon/pokemon/157.png', 'pokemon/pokemon/158.png', 'pokemon/pokemon/159.png', 'pokemon/pokemon/160.png', 'pokemon/pokemon/161.png', 'pokemon/pokemon/162.png', 'pokemon/pokemon/163.png', 'pokemon/pokemon/164.png', 'pokemon/pokemon/165.png', 'pokemon/pokemon/166.png', 'pokemon/pokemon/167.png', 'pokemon/pokemon/168.png', 'pokemon/pokemon/169.png', 'pokemon/pokemon/170.png', 'pokemon/pokemon/171.png', 'pokemon/pokemon/172.png', 'pokemon/pokemon/173.png', 'pokemon/pokemon/174.png', 'pokemon/pokemon/175.png', 'pokemon/pokemon/176.png', 'pokemon/pokemon/177.png', 'pokemon/pokemon/178.png', 'pokemon/pokemon/179.png', 'pokemon/pokemon/180.png', 'pokemon/pokemon/181.png', 'pokemon/pokemon/182.png', 'pokemon/pokemon/183.png', 'pokemon/pokemon/184.png', 'pokemon/pokemon/185.png', 'pokemon/pokemon/186.png', 'pokemon/pokemon/187.png', 'pokemon/pokemon/188.png', 'pokemon/pokemon/189.png', 'pokemon/pokemon/190.png', 'pokemon/pokemon/191.png', 'pokemon/pokemon/192.png', 'pokemon/pokemon/193.png', 'pokemon/pokemon/194.png', 'pokemon/pokemon/195.png', 'pokemon/pokemon/196.png', 'pokemon/pokemon/197.png', 'pokemon/pokemon/198.png', 'pokemon/pokemon/199.png', 'pokemon/pokemon/200.png', 'pokemon/pokemon/202.png', 'pokemon/pokemon/203.png', 'pokemon/pokemon/204.png', 'pokemon/pokemon/205.png', 'pokemon/pokemon/206.png', 'pokemon/pokemon/207.png', 'pokemon/pokemon/208.png', 'pokemon/pokemon/209.png', 'pokemon/pokemon/210.png', 'pokemon/pokemon/211.png', 'pokemon/pokemon/212.png', 'pokemon/pokemon/213.png', 'pokemon/pokemon/214.png', 'pokemon/pokemon/215.png', 'pokemon/pokemon/216.png', 'pokemon/pokemon/217.png', 'pokemon/pokemon/218.png', 'pokemon/pokemon/219.png', 'pokemon/pokemon/220.png', 'pokemon/pokemon/221.png', 'pokemon/pokemon/222.png', 'pokemon/pokemon/223.png', 'pokemon/pokemon/224.png', 'pokemon/pokemon/225.png', 'pokemon/pokemon/226.png', 'pokemon/pokemon/227.png', 'pokemon/pokemon/228.png', 'pokemon/pokemon/229.png', 'pokemon/pokemon/230.png', 'pokemon/pokemon/231.png', 'pokemon/pokemon/232.png', 'pokemon/pokemon/233.png', 'pokemon/pokemon/234.png', 'pokemon/pokemon/235.png', 'pokemon/pokemon/236.png', 'pokemon/pokemon/237.png', 'pokemon/pokemon/238.png', 'pokemon/pokemon/239.png', 'pokemon/pokemon/240.png', 'pokemon/pokemon/241.png', 'pokemon/pokemon/242.png', 'pokemon/pokemon/243.png', 'pokemon/pokemon/244.png', 'pokemon/pokemon/245.png', 'pokemon/pokemon/246.png', 'pokemon/pokemon/247.png', 'pokemon/pokemon/248.png', 'pokemon/pokemon/249.png', 'pokemon/pokemon/250.png', 'pokemon/pokemon/251.png', 'pokemon/pokemon/252.png', 'pokemon/pokemon/253.png', 'pokemon/pokemon/254.png', 'pokemon/pokemon/255.png', 'pokemon/pokemon/256.png', 'pokemon/pokemon/257.png', 'pokemon/pokemon/258.png', 'pokemon/pokemon/259.png', 'pokemon/pokemon/260.png', 'pokemon/pokemon/261.png', 'pokemon/pokemon/262.png', 'pokemon/pokemon/263.png', 'pokemon/pokemon/264.png', 'pokemon/pokemon/265.png', 'pokemon/pokemon/266.png', 'pokemon/pokemon/267.png', 'pokemon/pokemon/268.png', 'pokemon/pokemon/269.png', 'pokemon/pokemon/270.png', 'pokemon/pokemon/271.png', 'pokemon/pokemon/272.png', 'pokemon/pokemon/273.png', 'pokemon/pokemon/274.png', 'pokemon/pokemon/275.png', 'pokemon/pokemon/276.png', 'pokemon/pokemon/277.png', 'pokemon/pokemon/278.png', 'pokemon/pokemon/279.png', 'pokemon/pokemon/280.png', 'pokemon/pokemon/281.png', 'pokemon/pokemon/282.png', 'pokemon/pokemon/283.png', 'pokemon/pokemon/284.png', 'pokemon/pokemon/285.png', 'pokemon/pokemon/286.png', 'pokemon/pokemon/287.png', 'pokemon/pokemon/288.png', 'pokemon/pokemon/289.png', 'pokemon/pokemon/290.png', 'pokemon/pokemon/291.png', 'pokemon/pokemon/292.png', 'pokemon/pokemon/293.png', 'pokemon/pokemon/294.png', 'pokemon/pokemon/295.png', 'pokemon/pokemon/296.png', 'pokemon/pokemon/297.png', 'pokemon/pokemon/298.png', 'pokemon/pokemon/299.png', 'pokemon/pokemon/300.png', 'pokemon/pokemon/301.png', 'pokemon/pokemon/302.png', 'pokemon/pokemon/303.png', 'pokemon/pokemon/304.png', 'pokemon/pokemon/305.png', 'pokemon/pokemon/306.png', 'pokemon/pokemon/307.png', 'pokemon/pokemon/308.png', 'pokemon/pokemon/309.png', 'pokemon/pokemon/310.png', 'pokemon/pokemon/311.png', 'pokemon/pokemon/312.png', 'pokemon/pokemon/313.png', 'pokemon/pokemon/314.png', 'pokemon/pokemon/315.png', 'pokemon/pokemon/316.png', 'pokemon/pokemon/317.png', 'pokemon/pokemon/318.png', 'pokemon/pokemon/319.png', 'pokemon/pokemon/320.png', 'pokemon/pokemon/321.png', 'pokemon/pokemon/322.png', 'pokemon/pokemon/323.png', 'pokemon/pokemon/324.png', 'pokemon/pokemon/325.png', 'pokemon/pokemon/326.png', 'pokemon/pokemon/327.png', 'pokemon/pokemon/328.png', 'pokemon/pokemon/329.png', 'pokemon/pokemon/330.png', 'pokemon/pokemon/331.png', 'pokemon/pokemon/332.png', 'pokemon/pokemon/333.png', 'pokemon/pokemon/334.png', 'pokemon/pokemon/335.png', 'pokemon/pokemon/336.png', 'pokemon/pokemon/337.png', 'pokemon/pokemon/338.png', 'pokemon/pokemon/339.png', 'pokemon/pokemon/340.png', 'pokemon/pokemon/341.png', 'pokemon/pokemon/342.png', 'pokemon/pokemon/343.png', 'pokemon/pokemon/344.png', 'pokemon/pokemon/345.png', 'pokemon/pokemon/346.png', 'pokemon/pokemon/347.png', 'pokemon/pokemon/348.png', 'pokemon/pokemon/349.png', 'pokemon/pokemon/350.png', 'pokemon/pokemon/351.png', 'pokemon/pokemon/352.png', 'pokemon/pokemon/353.png', 'pokemon/pokemon/354.png', 'pokemon/pokemon/355.png', 'pokemon/pokemon/356.png', 'pokemon/pokemon/357.png', 'pokemon/pokemon/358.png', 'pokemon/pokemon/359.png', 'pokemon/pokemon/360.png', 'pokemon/pokemon/361.png', 'pokemon/pokemon/362.png', 'pokemon/pokemon/363.png', 'pokemon/pokemon/364.png', 'pokemon/pokemon/365.png', 'pokemon/pokemon/366.png', 'pokemon/pokemon/367.png', 'pokemon/pokemon/368.png', 'pokemon/pokemon/369.png', 'pokemon/pokemon/370.png', 'pokemon/pokemon/371.png', 'pokemon/pokemon/372.png', 'pokemon/pokemon/373.png', 'pokemon/pokemon/374.png', 'pokemon/pokemon/375.png', 'pokemon/pokemon/376.png', 'pokemon/pokemon/377.png', 'pokemon/pokemon/378.png', 'pokemon/pokemon/379.png', 'pokemon/pokemon/380.png', 'pokemon/pokemon/381.png', 'pokemon/pokemon/382.png', 'pokemon/pokemon/383.png', 'pokemon/pokemon/384.png', 'pokemon/pokemon/385.png', 'pokemon/pokemon/387.png', 'pokemon/pokemon/388.png', 'pokemon/pokemon/389.png', 'pokemon/pokemon/390.png', 'pokemon/pokemon/391.png', 'pokemon/pokemon/392.png', 'pokemon/pokemon/393.png', 'pokemon/pokemon/394.png', 'pokemon/pokemon/395.png', 'pokemon/pokemon/396.png', 'pokemon/pokemon/397.png', 'pokemon/pokemon/398.png', 'pokemon/pokemon/399.png', 'pokemon/pokemon/400.png', 'pokemon/pokemon/401.png', 'pokemon/pokemon/402.png', 'pokemon/pokemon/403.png', 'pokemon/pokemon/404.png', 'pokemon/pokemon/405.png', 'pokemon/pokemon/406.png', 'pokemon/pokemon/407.png', 'pokemon/pokemon/408.png', 'pokemon/pokemon/409.png', 'pokemon/pokemon/410.png', 'pokemon/pokemon/411.png', 'pokemon/pokemon/414.png', 'pokemon/pokemon/415.png', 'pokemon/pokemon/416.png', 'pokemon/pokemon/417.png', 'pokemon/pokemon/418.png', 'pokemon/pokemon/419.png', 'pokemon/pokemon/420.png', 'pokemon/pokemon/424.png', 'pokemon/pokemon/425.png', 'pokemon/pokemon/426.png', 'pokemon/pokemon/427.png', 'pokemon/pokemon/428.png', 'pokemon/pokemon/429.png', 'pokemon/pokemon/430.png', 'pokemon/pokemon/431.png', 'pokemon/pokemon/432.png', 'pokemon/pokemon/433.png', 'pokemon/pokemon/434.png', 'pokemon/pokemon/435.png', 'pokemon/pokemon/436.png', 'pokemon/pokemon/437.png', 'pokemon/pokemon/438.png', 'pokemon/pokemon/439.png', 'pokemon/pokemon/440.png', 'pokemon/pokemon/441.png', 'pokemon/pokemon/442.png', 'pokemon/pokemon/443.png', 'pokemon/pokemon/444.png', 'pokemon/pokemon/445.png', 'pokemon/pokemon/446.png', 'pokemon/pokemon/447.png', 'pokemon/pokemon/448.png', 'pokemon/pokemon/449.png', 'pokemon/pokemon/450.png', 'pokemon/pokemon/451.png', 'pokemon/pokemon/452.png', 'pokemon/pokemon/453.png', 'pokemon/pokemon/454.png', 'pokemon/pokemon/455.png', 'pokemon/pokemon/456.png', 'pokemon/pokemon/457.png', 'pokemon/pokemon/458.png', 'pokemon/pokemon/459.png', 'pokemon/pokemon/460.png', 'pokemon/pokemon/461.png', 'pokemon/pokemon/462.png', 'pokemon/pokemon/463.png', 'pokemon/pokemon/464.png', 'pokemon/pokemon/465.png', 'pokemon/pokemon/466.png', 'pokemon/pokemon/467.png', 'pokemon/pokemon/468.png', 'pokemon/pokemon/469.png', 'pokemon/pokemon/470.png', 'pokemon/pokemon/471.png', 'pokemon/pokemon/472.png', 'pokemon/pokemon/473.png', 'pokemon/pokemon/474.png', 'pokemon/pokemon/475.png', 'pokemon/pokemon/476.png', 'pokemon/pokemon/477.png', 'pokemon/pokemon/478.png', 'pokemon/pokemon/479.png', 'pokemon/pokemon/480.png', 'pokemon/pokemon/481.png', 'pokemon/pokemon/482.png', 'pokemon/pokemon/483.png', 'pokemon/pokemon/484.png', 'pokemon/pokemon/485.png', 'pokemon/pokemon/486.png', 'pokemon/pokemon/488.png', 'pokemon/pokemon/489.png', 'pokemon/pokemon/490.png', 'pokemon/pokemon/491.png', 'pokemon/pokemon/494.png', 'pokemon/pokemon/495.png', 'pokemon/pokemon/496.png', 'pokemon/pokemon/497.png', 'pokemon/pokemon/498.png', 'pokemon/pokemon/499.png', 'pokemon/pokemon/500.png', 'pokemon/pokemon/501.png', 'pokemon/pokemon/502.png', 'pokemon/pokemon/503.png', 'pokemon/pokemon/504.png', 'pokemon/pokemon/505.png', 'pokemon/pokemon/506.png', 'pokemon/pokemon/507.png', 'pokemon/pokemon/508.png', 'pokemon/pokemon/509.png', 'pokemon/pokemon/510.png', 'pokemon/pokemon/511.png', 'pokemon/pokemon/512.png', 'pokemon/pokemon/513.png', 'pokemon/pokemon/514.png', 'pokemon/pokemon/515.png', 'pokemon/pokemon/516.png', 'pokemon/pokemon/517.png', 'pokemon/pokemon/518.png', 'pokemon/pokemon/519.png', 'pokemon/pokemon/520.png', 'pokemon/pokemon/521.png', 'pokemon/pokemon/522.png', 'pokemon/pokemon/523.png', 'pokemon/pokemon/524.png', 'pokemon/pokemon/525.png', 'pokemon/pokemon/526.png', 'pokemon/pokemon/527.png', 'pokemon/pokemon/528.png', 'pokemon/pokemon/529.png', 'pokemon/pokemon/530.png', 'pokemon/pokemon/531.png', 'pokemon/pokemon/532.png', 'pokemon/pokemon/533.png', 'pokemon/pokemon/534.png', 'pokemon/pokemon/535.png', 'pokemon/pokemon/536.png', 'pokemon/pokemon/537.png', 'pokemon/pokemon/538.png', 'pokemon/pokemon/539.png', 'pokemon/pokemon/540.png', 'pokemon/pokemon/541.png', 'pokemon/pokemon/542.png', 'pokemon/pokemon/543.png', 'pokemon/pokemon/544.png', 'pokemon/pokemon/545.png', 'pokemon/pokemon/546.png', 'pokemon/pokemon/547.png', 'pokemon/pokemon/548.png', 'pokemon/pokemon/549.png', 'pokemon/pokemon/551.png', 'pokemon/pokemon/552.png', 'pokemon/pokemon/553.png', 'pokemon/pokemon/554.png', 'pokemon/pokemon/556.png', 'pokemon/pokemon/557.png', 'pokemon/pokemon/558.png', 'pokemon/pokemon/559.png', 'pokemon/pokemon/560.png', 'pokemon/pokemon/561.png', 'pokemon/pokemon/562.png', 'pokemon/pokemon/563.png', 'pokemon/pokemon/564.png', 'pokemon/pokemon/565.png', 'pokemon/pokemon/566.png', 'pokemon/pokemon/567.png', 'pokemon/pokemon/568.png', 'pokemon/pokemon/569.png', 'pokemon/pokemon/570.png', 'pokemon/pokemon/571.png', 'pokemon/pokemon/572.png', 'pokemon/pokemon/573.png', 'pokemon/pokemon/574.png', 'pokemon/pokemon/575.png', 'pokemon/pokemon/576.png', 'pokemon/pokemon/577.png', 'pokemon/pokemon/578.png', 'pokemon/pokemon/579.png', 'pokemon/pokemon/580.png', 'pokemon/pokemon/581.png', 'pokemon/pokemon/582.png', 'pokemon/pokemon/583.png', 'pokemon/pokemon/584.png', 'pokemon/pokemon/587.png', 'pokemon/pokemon/588.png', 'pokemon/pokemon/589.png', 'pokemon/pokemon/590.png', 'pokemon/pokemon/591.png', 'pokemon/pokemon/592.png', 'pokemon/pokemon/593.png', 'pokemon/pokemon/594.png', 'pokemon/pokemon/595.png', 'pokemon/pokemon/596.png', 'pokemon/pokemon/597.png', 'pokemon/pokemon/598.png', 'pokemon/pokemon/599.png', 'pokemon/pokemon/600.png', 'pokemon/pokemon/601.png', 'pokemon/pokemon/602.png', 'pokemon/pokemon/603.png', 'pokemon/pokemon/604.png', 'pokemon/pokemon/605.png', 'pokemon/pokemon/606.png', 'pokemon/pokemon/607.png', 'pokemon/pokemon/608.png', 'pokemon/pokemon/609.png', 'pokemon/pokemon/610.png', 'pokemon/pokemon/611.png', 'pokemon/pokemon/612.png', 'pokemon/pokemon/613.png', 'pokemon/pokemon/614.png', 'pokemon/pokemon/615.png', 'pokemon/pokemon/616.png', 'pokemon/pokemon/617.png', 'pokemon/pokemon/618.png', 'pokemon/pokemon/619.png', 'pokemon/pokemon/620.png', 'pokemon/pokemon/621.png', 'pokemon/pokemon/622.png', 'pokemon/pokemon/623.png', 'pokemon/pokemon/624.png', 'pokemon/pokemon/625.png', 'pokemon/pokemon/626.png', 'pokemon/pokemon/627.png', 'pokemon/pokemon/628.png', 'pokemon/pokemon/629.png', 'pokemon/pokemon/630.png', 'pokemon/pokemon/631.png', 'pokemon/pokemon/632.png', 'pokemon/pokemon/633.png', 'pokemon/pokemon/634.png', 'pokemon/pokemon/635.png', 'pokemon/pokemon/636.png', 'pokemon/pokemon/637.png', 'pokemon/pokemon/638.png', 'pokemon/pokemon/639.png', 'pokemon/pokemon/640.png', 'pokemon/pokemon/643.png', 'pokemon/pokemon/644.png', 'pokemon/pokemon/646.png', 'pokemon/pokemon/648.png', 'pokemon/pokemon/649.png', 'pokemon/pokemon/650.png', 'pokemon/pokemon/651.png', 'pokemon/pokemon/652.png', 'pokemon/pokemon/653.png', 'pokemon/pokemon/654.png', 'pokemon/pokemon/655.png', 'pokemon/pokemon/656.png', 'pokemon/pokemon/657.png', 'pokemon/pokemon/658.png', 'pokemon/pokemon/659.png', 'pokemon/pokemon/660.png', 'pokemon/pokemon/661.png', 'pokemon/pokemon/662.png', 'pokemon/pokemon/663.png', 'pokemon/pokemon/664.png', 'pokemon/pokemon/665.png', 'pokemon/pokemon/666.png', 'pokemon/pokemon/667.png', 'pokemon/pokemon/668.png', 'pokemon/pokemon/669.png', 'pokemon/pokemon/670.png', 'pokemon/pokemon/671.png', 'pokemon/pokemon/672.png', 'pokemon/pokemon/673.png', 'pokemon/pokemon/674.png', 'pokemon/pokemon/675.png', 'pokemon/pokemon/676.png', 'pokemon/pokemon/677.png', 'pokemon/pokemon/678.png', 'pokemon/pokemon/679.png', 'pokemon/pokemon/680.png', 'pokemon/pokemon/681.png', 'pokemon/pokemon/682.png', 'pokemon/pokemon/683.png', 'pokemon/pokemon/684.png', 'pokemon/pokemon/685.png', 'pokemon/pokemon/686.png', 'pokemon/pokemon/687.png', 'pokemon/pokemon/688.png', 'pokemon/pokemon/689.png', 'pokemon/pokemon/690.png', 'pokemon/pokemon/691.png', 'pokemon/pokemon/692.png', 'pokemon/pokemon/693.png', 'pokemon/pokemon/694.png', 'pokemon/pokemon/695.png', 'pokemon/pokemon/696.png', 'pokemon/pokemon/697.png', 'pokemon/pokemon/698.png', 'pokemon/pokemon/699.png', 'pokemon/pokemon/700.png', 'pokemon/pokemon/701.png', 'pokemon/pokemon/702.png', 'pokemon/pokemon/703.png', 'pokemon/pokemon/704.png', 'pokemon/pokemon/705.png', 'pokemon/pokemon/706.png', 'pokemon/pokemon/707.png', 'pokemon/pokemon/708.png', 'pokemon/pokemon/709.png', 'pokemon/pokemon/710.png', 'pokemon/pokemon/711.png', 'pokemon/pokemon/712.png', 'pokemon/pokemon/713.png', 'pokemon/pokemon/714.png', 'pokemon/pokemon/715.png', 'pokemon/pokemon/716.png', 'pokemon/pokemon/717.png', 'pokemon/pokemon/718.png', 'pokemon/pokemon/719.png', 'pokemon/pokemon/720.png', 'pokemon/pokemon/721.png']\n"
     ]
    }
   ],
   "source": [
    "files = []\n",
    "for file in os.listdir('./pokemon/pokemon'):\n",
    "    number = int(file.split('.')[0])\n",
    "    files.append(number)\n",
    "files.sort(key=int)\n",
    "images = []\n",
    "for file in files:\n",
    "    file = 'pokemon/pokemon/' + str(file) + '.png'\n",
    "    images.append(file)\n",
    "# for file in files:\n",
    "#     file = './pokemon/pokemon' + file + '.png'\n",
    "\n",
    "print(images) \n"
   ]
  },
  {
   "cell_type": "code",
   "execution_count": null,
   "metadata": {},
   "outputs": [],
   "source": [
    "silhouettes = []\n",
    "path = 'silhouettes/'\n",
    "for image in images:\n",
    "    img = cv2.imread(image,0)\n",
    "    contours,hierarchy = cv2.findContours(img,cv2.RETR_CCOMP,cv2.CHAIN_APPROX_SIMPLE)\n",
    "    external_contours = np.zeros(img.shape)\n",
    "    external_contours = (255 - external_contours)\n",
    "    for i in range(len(contours)):\n",
    "        #External contours\n",
    "        #if hierarchy[0][i][3] == -1:\n",
    "        cv2.drawContours(external_contours,contours,i,255,-1)\n",
    "    cv2.imwrite(os.path.join(path,str(i) + \".png\"),external_contours)\n",
    "    "
   ]
  },
  {
   "cell_type": "code",
   "execution_count": null,
   "metadata": {},
   "outputs": [],
   "source": []
  },
  {
   "cell_type": "code",
   "execution_count": null,
   "metadata": {},
   "outputs": [],
   "source": []
  }
 ],
 "metadata": {
  "kernelspec": {
   "display_name": "Python 3",
   "language": "python",
   "name": "python3"
  },
  "language_info": {
   "codemirror_mode": {
    "name": "ipython",
    "version": 3
   },
   "file_extension": ".py",
   "mimetype": "text/x-python",
   "name": "python",
   "nbconvert_exporter": "python",
   "pygments_lexer": "ipython3",
   "version": "3.8.3"
  }
 },
 "nbformat": 4,
 "nbformat_minor": 4
}
